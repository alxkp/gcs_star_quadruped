{
 "cells": [
  {
   "cell_type": "markdown",
   "metadata": {
    "cell_id": "903c6eda70a94ffe959fdee58b50a035",
    "deepnote_cell_type": "markdown"
   },
   "source": [
    "# Footstep Planning via Graph of Convex Sets"
   ]
  },
  {
   "cell_type": "code",
   "execution_count": null,
   "metadata": {
    "cell_id": "ca3c4725d19142758031a8a7d90e6157",
    "deepnote_cell_type": "code"
   },
   "outputs": [
    {
     "ename": "ModuleNotFoundError",
     "evalue": "No module named 'underactuated'",
     "output_type": "error",
     "traceback": [
      "\u001b[0;31m---------------------------------------------------------------------------\u001b[0m",
      "\u001b[0;31mModuleNotFoundError\u001b[0m                       Traceback (most recent call last)",
      "Cell \u001b[0;32mIn[14], line 9\u001b[0m\n\u001b[1;32m      6\u001b[0m \u001b[38;5;28;01mfrom\u001b[39;00m \u001b[38;5;21;01mpydrake\u001b[39;00m\u001b[38;5;21;01m.\u001b[39;00m\u001b[38;5;21;01mall\u001b[39;00m \u001b[38;5;28;01mimport\u001b[39;00m GraphOfConvexSets, GraphOfConvexSetsOptions, HPolyhedron, Point\n\u001b[1;32m      7\u001b[0m \u001b[38;5;28;01mfrom\u001b[39;00m \u001b[38;5;21;01mpydrake\u001b[39;00m\u001b[38;5;21;01m.\u001b[39;00m\u001b[38;5;21;01msolvers\u001b[39;00m \u001b[38;5;28;01mimport\u001b[39;00m SnoptSolver\n\u001b[0;32m----> 9\u001b[0m \u001b[38;5;28;01mfrom\u001b[39;00m \u001b[38;5;21;01munderactuated\u001b[39;00m\u001b[38;5;21;01m.\u001b[39;00m\u001b[38;5;21;01mexercises\u001b[39;00m\u001b[38;5;21;01m.\u001b[39;00m\u001b[38;5;21;01mgrader\u001b[39;00m \u001b[38;5;28;01mimport\u001b[39;00m Grader\n\u001b[1;32m     10\u001b[0m \u001b[38;5;28;01mfrom\u001b[39;00m \u001b[38;5;21;01munderactuated\u001b[39;00m\u001b[38;5;21;01m.\u001b[39;00m\u001b[38;5;21;01mexercises\u001b[39;00m\u001b[38;5;21;01m.\u001b[39;00m\u001b[38;5;21;01mhumanoids\u001b[39;00m\u001b[38;5;21;01m.\u001b[39;00m\u001b[38;5;21;01mfootstep_planning_gcs_utils\u001b[39;00m \u001b[38;5;28;01mimport\u001b[39;00m (\n\u001b[1;32m     11\u001b[0m     animate_footstep_plan,\n\u001b[1;32m     12\u001b[0m     plot_rectangle,\n\u001b[1;32m     13\u001b[0m )\n\u001b[1;32m     14\u001b[0m \u001b[38;5;28;01mfrom\u001b[39;00m \u001b[38;5;21;01munderactuated\u001b[39;00m\u001b[38;5;21;01m.\u001b[39;00m\u001b[38;5;21;01mexercises\u001b[39;00m\u001b[38;5;21;01m.\u001b[39;00m\u001b[38;5;21;01mhumanoids\u001b[39;00m\u001b[38;5;21;01m.\u001b[39;00m\u001b[38;5;21;01mtest_footstep_planning_gcs\u001b[39;00m \u001b[38;5;28;01mimport\u001b[39;00m (\n\u001b[1;32m     15\u001b[0m     TestFootstepPlanning,\n\u001b[1;32m     16\u001b[0m )\n",
      "\u001b[0;31mModuleNotFoundError\u001b[0m: No module named 'underactuated'"
     ]
    }
   ],
   "source": [
    "# python libraries\n",
    "import numpy as np\n",
    "from IPython.display import IFrame, display\n",
    "from matplotlib import pyplot as plt\n",
    "from matplotlib import rcParams\n",
    "from pydrake.all import GraphOfConvexSets, GraphOfConvexSetsOptions, HPolyhedron, Point, GcsTrajectoryOptimization\n",
    "from pydrake.solvers import SnoptSolver\n",
    "\n",
    "from underactuated.exercises.grader import Grader\n",
    "from underactuated.exercises.humanoids.footstep_planning_gcs_utils import (\n",
    "    animate_footstep_plan,\n",
    "    plot_rectangle,\n",
    ")\n",
    "from underactuated.exercises.humanoids.test_footstep_planning_gcs import (\n",
    "    TestFootstepPlanning,\n",
    ")\n",
    "\n",
    "#increase default size matplotlib figures\n",
    "\n",
    "rcParams[\"figure.figsize\"] = (10, 5)\n",
    "\n",
    "# import helper functions"
   ]
  },
  {
   "cell_type": "markdown",
   "metadata": {
    "cell_id": "be0e2f8364c54edba266a9bd84d77c30",
    "deepnote_cell_type": "markdown"
   },
   "source": [
    "## Problem Description\n",
    "\n",
    "In this notebook we will implement a simplified footstep planner for a humanoid robot. The idea is straightforward: we need to plan where to place the feet of the robot in order to move from point A to point B.\n",
    "In doing so, we are allowed to place the feet only in certain safe areas (\"stepping stones\") and each step cannot exceed a certain length.\n",
    "\n",
    "Before we formulate the problem, take a look at the following videos to see the Atlas robot performing footstep planning!"
   ]
  },
  {
   "cell_type": "code",
   "execution_count": null,
   "metadata": {
    "cell_id": "aa6a44c3af394fd7bd40b478e0b131d7",
    "deepnote_cell_type": "code"
   },
   "outputs": [],
   "source": [
    "display(\n",
    "    IFrame(\n",
    "        src=\"https://www.youtube.com/embed/hGhCTPQuMy4\",\n",
    "        width=\"560\",\n",
    "        height=\"315\",\n",
    "    )\n",
    ")\n",
    "display(\n",
    "    IFrame(\n",
    "        src=\"https://www.youtube.com/embed/_6WQxXH-bB4\",\n",
    "        width=\"560\",\n",
    "        height=\"315\",\n",
    "    )\n",
    ")"
   ]
  },
  {
   "cell_type": "markdown",
   "metadata": {
    "cell_id": "fb216de5d3d84921a5ff8ad82eed68a7",
    "deepnote_cell_type": "markdown"
   },
   "source": [
    "The method used in the Atlas footstep planner is proposed [in this paper](https://groups.csail.mit.edu/robotics-center/public_papers/Deits14a.pdf), which formulates the planning task as a mixed-integer quadratic programming (MIQP) problem. MIQP is a relatively nice class of optimization problems. The [branch and bound algorithm](https://en.wikipedia.org/wiki/Branch_and_bound) allows to solve these problems to global optimality, whenever a solution exists, and it certifies infeasibility otherwise. The drawback, however, is that computation times scale exponentially with the number of integer variables in the problem.\n",
    "\n",
    "In this notebook, instead of MIQP, we will formulate the planning task as a shortest path problem (SPP) in a graph of convex sets (GCS). Using perspective functions and bilinear constraints, a mixed-integer convex program formulation of SPP in GCS is proposed [in this paper](https://arxiv.org/abs/2101.11565), which has tight convex relaxations. In the following, we will transcribe the footstep planning problem to a SPP in GCS, and solve its convex relaxation. Compared to MIQP which requires branch and bound, the convex optimization problem is very computationally efficient and scales well with the complexity of the terrain.\n",
    "\n",
    "You will be asked to code most of the components of this GCS:\n",
    "- Construct vertices based on the stepping stones.\n",
    "- Constrcut valid edges between vertices.\n",
    "- Add constraints associated with each edge that reflect the kinematic constraints of the robot.\n",
    "- The objective function that minimizes the total number of steps."
   ]
  },
  {
   "cell_type": "markdown",
   "metadata": {
    "cell_id": "30c3a9de52644e0cadcd904e7e73f3b7",
    "deepnote_cell_type": "markdown"
   },
   "source": [
    "## Building the Terrain\n",
    "\n",
    "We begin by constructing the terrain in which the robot will walk.\n",
    "For simplicity, we let the stepping stones be rectangles in the plane.\n",
    "\n",
    "We define each stepping stone by its `center` (2d vector), its `width` (float), and its `height` (float), but we also store [its halfspace representation](https://en.wikipedia.org/wiki/Convex_polytope#Intersection_of_half-spaces).\n",
    "In this representation, a stepping stone is described by a matrix $A$ and a vector $b$ such that a point $x \\in \\mathbb R^2$ lies inside the stepping stone iff $A x \\leq b$.\n",
    "Each row of the matrix $A$ represents one of the four halfspaces that delimit a 2d rectangle.\n",
    "\n",
    "To shorten the notebook and only keep core implmentations, the `plot_rectangle()` helper function is moved to `footstep_planning_gsc_utils.py` file. Feel free to check it out if you are interested.\n",
    "\n",
    "**Functions that contained in this notebook, e.g., the `Terrain` class, might be helpful for you to understand their structure and implement your own parts. Please read through them.**"
   ]
  },
  {
   "cell_type": "code",
   "execution_count": 8,
   "metadata": {
    "cell_id": "9a0908c69e714d50a14bfd7080138fe2",
    "deepnote_cell_type": "code"
   },
   "outputs": [],
   "source": [
    "class SteppingStone(object):\n",
    "    def __init__(self, center, width, height, name=None):\n",
    "        # store arguments\n",
    "        self.center = center\n",
    "        self.width = width\n",
    "        self.height = height\n",
    "        self.name = name\n",
    "        self.V = []\n",
    "\n",
    "        # distance from center to corners\n",
    "        c2tr = np.array([width, height]) / 2\n",
    "        c2br = np.array([width, -height]) / 2\n",
    "\n",
    "        # position of the corners\n",
    "        self.top_right = center + c2tr\n",
    "        self.bottom_right = center + c2br\n",
    "        self.top_left = center - c2br\n",
    "        self.bottom_left = center - c2tr\n",
    "\n",
    "        # halfspace representation of the stepping stone\n",
    "        self.A = np.array([[1, 0], [0, 1], [-1, 0], [0, -1]])\n",
    "        self.b = np.concatenate([c2tr] * 2) + self.A.dot(center)\n",
    "\n",
    "    def plot(self, **kwargs):\n",
    "        return plot_rectangle(self.center, self.width, self.height, **kwargs)"
   ]
  },
  {
   "cell_type": "markdown",
   "metadata": {
    "cell_id": "4bf08ffe668f4d84b3cc97a58f7c4e89",
    "deepnote_cell_type": "markdown"
   },
   "source": [
    "Now that we have the building block for the construction of the robot's terrain, we place the stepping stones.\n",
    "The idea is to replicate the task that Atlas performs in the first video above (at time 1:24).\n",
    "\n",
    "The following class that takes a list of boolean values (e.g. `bool_bridge = [0, 1, 1, 0, 0, 1]`) and generates a collection of stepping stones.\n",
    "We have the `initial` stepping stone on the left, the `goal` stepping stone on the right, the `lateral` stepping stone at the top, and a set of `bridge` stepping stones that connect the `initial` stone to the `goal`.\n",
    "When all the `bridge` stepping stones are in place, i.e., have value 1, there would be an easy path for the robot to reach the `goal`.\n",
    "However, out of the potential `len(bool_bridge)` stepping stones forming the bridge, only the ones with entry equal to `1` are actually there.\n",
    "\n",
    "If this description is not super clear, quickly run the next couple of cells and play with the list of booleans in the line `Terrain([1, 0, 1, 1, 0, 1]).plot()`.\n"
   ]
  },
  {
   "cell_type": "code",
   "execution_count": 9,
   "metadata": {
    "cell_id": "45f484c0d8d2437ba8e238c2ccd0e616",
    "deepnote_cell_type": "code"
   },
   "outputs": [],
   "source": [
    "class Terrain(object):\n",
    "    # parametric construction of the stepping stones\n",
    "    # the following code adapts the position of each stepping\n",
    "    # stone depending on the size and the sparsity of bool_bridge\n",
    "    def __init__(self, bool_bridge):\n",
    "        # ensure that bool_bridge has only boolean entries\n",
    "        if any(i != bool(i) for i in bool_bridge):\n",
    "            raise ValueError(\"Entry bool_bridge must be a list of boolean value.\")\n",
    "\n",
    "        # initialize internal list of stepping stones\n",
    "        self.stepping_stones = []\n",
    "\n",
    "        # add initial stepping stone to the terrain\n",
    "        initial = self.add_stone([0, 0], 1, 1, \"initial\")\n",
    "\n",
    "        # add bridge stepping stones to the terrain\n",
    "        # gap between bridge stones equals bridge stone width\n",
    "        width_bridge = 0.2\n",
    "        center = initial.bottom_right + np.array(\n",
    "            [width_bridge * 1.5, initial.height / 4]\n",
    "        )\n",
    "        centers = [\n",
    "            center + np.array([i * 2 * width_bridge, 0])\n",
    "            for i in np.where(bool_bridge)[0]\n",
    "        ]\n",
    "        self.add_stones(\n",
    "            centers,\n",
    "            [width_bridge] * sum(bool_bridge),\n",
    "            [initial.height / 2] * sum(bool_bridge),\n",
    "            \"bridge\",\n",
    "        )\n",
    "\n",
    "        # add goal stepping stone to the terrain\n",
    "        # same dimensions of the initial one\n",
    "        center = initial.center + np.array(\n",
    "            [initial.width + (len(bool_bridge) * 2 + 1) * width_bridge, 0]\n",
    "        )\n",
    "        goal = self.add_stone(center, initial.width, initial.height, \"goal\")\n",
    "\n",
    "        # add lateral stepping stone to the terrain\n",
    "        height = 0.4\n",
    "        clearance = 0.1\n",
    "        c2g = goal.center - initial.center\n",
    "        width = initial.width + c2g[0]\n",
    "        center = (\n",
    "            initial.center\n",
    "            + c2g / 2\n",
    "            + np.array([0, (initial.height + height) / 2 + clearance])\n",
    "        )\n",
    "        self.add_stone(center, width, height, \"lateral\")\n",
    "\n",
    "    # adds a stone to the internal list stepping_stones\n",
    "    def add_stone(self, center, width, height, name=None):\n",
    "        stone = SteppingStone(center, width, height, name=name)\n",
    "        self.stepping_stones.append(stone)\n",
    "        return stone\n",
    "\n",
    "    # adds multiple stones to the internal list stepping_stones\n",
    "    def add_stones(self, centers, widths, heights, name=None):\n",
    "        # ensure that inputs have coherent size\n",
    "        n_stones = len(centers)\n",
    "        if n_stones != len(widths) or n_stones != len(heights):\n",
    "            raise ValueError(\"Arguments have incoherent size.\")\n",
    "\n",
    "        # add one stone per time\n",
    "        stones = []\n",
    "        for i in range(n_stones):\n",
    "            stone_name = name if name is None else name + \"_\" + str(i)\n",
    "            stones.append(\n",
    "                self.add_stone(centers[i], widths[i], heights[i], name=stone_name)\n",
    "            )\n",
    "\n",
    "        return stones\n",
    "\n",
    "    # returns the stone with the given name\n",
    "    # raise a ValueError if no stone has the given name\n",
    "    def get_stone_by_name(self, name):\n",
    "        # loop through the stones\n",
    "        # select the first with the given name\n",
    "        for stone in self.stepping_stones:\n",
    "            if stone.name == name:\n",
    "                return stone\n",
    "\n",
    "        # raise error if there is no stone with the given name\n",
    "        raise ValueError(f\"No stone in the terrain has name {name}.\")\n",
    "\n",
    "    # plots all the stones in the terrain\n",
    "    def plot(self, title=None, **kwargs):\n",
    "        # make light green the default facecolor\n",
    "        if not \"facecolor\" in kwargs:\n",
    "            kwargs[\"facecolor\"] = [0, 1, 0, 0.1]\n",
    "\n",
    "        # plot stepping stones disposition\n",
    "        labels = [\"Stepping stone\", None]\n",
    "        for i, stone in enumerate(self.stepping_stones):\n",
    "            stone.plot(label=labels[min(i, 1)], **kwargs)\n",
    "\n",
    "        # set title\n",
    "        plt.title(title)"
   ]
  },
  {
   "cell_type": "markdown",
   "metadata": {
    "cell_id": "8be137e452884f99952eaa500201e0e9",
    "deepnote_cell_type": "markdown"
   },
   "source": [
    "Use the next cell to play with the list of booleans and make the stones in the bridge appear and disappear.\n",
    "You can also modify the length of the list and the position of the stepping stones will adapt automatically.\n",
    "\n",
    "At the end of the notebook, we will focus on two specific setups: `bool_bridge = [1, 1, 1, 1, 1, 1]` and `bool_bridge = [1, 1, 1, 0, 1, 1]`.\n",
    "In the first case, we expect the robot to walk straight through the bridge to arrive at the goal.\n",
    "In the second, given the strict limits we will enforce on the maximum step length, the robot will have to use the lateral stepping stone."
   ]
  },
  {
   "cell_type": "code",
   "execution_count": 10,
   "metadata": {
    "cell_id": "8b812cfab8da42bcae24762b733f66b1",
    "deepnote_cell_type": "code"
   },
   "outputs": [
    {
     "ename": "NameError",
     "evalue": "name 'plot_rectangle' is not defined",
     "output_type": "error",
     "traceback": [
      "\u001b[0;31m---------------------------------------------------------------------------\u001b[0m",
      "\u001b[0;31mNameError\u001b[0m                                 Traceback (most recent call last)",
      "Cell \u001b[0;32mIn[10], line 1\u001b[0m\n\u001b[0;32m----> 1\u001b[0m \u001b[43mTerrain\u001b[49m\u001b[43m(\u001b[49m\u001b[43m[\u001b[49m\u001b[38;5;241;43m1\u001b[39;49m\u001b[43m,\u001b[49m\u001b[43m \u001b[49m\u001b[38;5;241;43m0\u001b[39;49m\u001b[43m,\u001b[49m\u001b[43m \u001b[49m\u001b[38;5;241;43m1\u001b[39;49m\u001b[43m,\u001b[49m\u001b[43m \u001b[49m\u001b[38;5;241;43m1\u001b[39;49m\u001b[43m,\u001b[49m\u001b[43m \u001b[49m\u001b[38;5;241;43m0\u001b[39;49m\u001b[43m,\u001b[49m\u001b[43m \u001b[49m\u001b[38;5;241;43m1\u001b[39;49m\u001b[43m]\u001b[49m\u001b[43m)\u001b[49m\u001b[38;5;241;43m.\u001b[39;49m\u001b[43mplot\u001b[49m\u001b[43m(\u001b[49m\u001b[43m)\u001b[49m\n",
      "Cell \u001b[0;32mIn[9], line 96\u001b[0m, in \u001b[0;36mTerrain.plot\u001b[0;34m(self, title, **kwargs)\u001b[0m\n\u001b[1;32m     94\u001b[0m labels \u001b[38;5;241m=\u001b[39m [\u001b[38;5;124m\"\u001b[39m\u001b[38;5;124mStepping stone\u001b[39m\u001b[38;5;124m\"\u001b[39m, \u001b[38;5;28;01mNone\u001b[39;00m]\n\u001b[1;32m     95\u001b[0m \u001b[38;5;28;01mfor\u001b[39;00m i, stone \u001b[38;5;129;01min\u001b[39;00m \u001b[38;5;28menumerate\u001b[39m(\u001b[38;5;28mself\u001b[39m\u001b[38;5;241m.\u001b[39mstepping_stones):\n\u001b[0;32m---> 96\u001b[0m     \u001b[43mstone\u001b[49m\u001b[38;5;241;43m.\u001b[39;49m\u001b[43mplot\u001b[49m\u001b[43m(\u001b[49m\u001b[43mlabel\u001b[49m\u001b[38;5;241;43m=\u001b[39;49m\u001b[43mlabels\u001b[49m\u001b[43m[\u001b[49m\u001b[38;5;28;43mmin\u001b[39;49m\u001b[43m(\u001b[49m\u001b[43mi\u001b[49m\u001b[43m,\u001b[49m\u001b[43m \u001b[49m\u001b[38;5;241;43m1\u001b[39;49m\u001b[43m)\u001b[49m\u001b[43m]\u001b[49m\u001b[43m,\u001b[49m\u001b[43m \u001b[49m\u001b[38;5;241;43m*\u001b[39;49m\u001b[38;5;241;43m*\u001b[39;49m\u001b[43mkwargs\u001b[49m\u001b[43m)\u001b[49m\n\u001b[1;32m     98\u001b[0m \u001b[38;5;66;03m# set title\u001b[39;00m\n\u001b[1;32m     99\u001b[0m plt\u001b[38;5;241m.\u001b[39mtitle(title)\n",
      "Cell \u001b[0;32mIn[8], line 25\u001b[0m, in \u001b[0;36mSteppingStone.plot\u001b[0;34m(self, **kwargs)\u001b[0m\n\u001b[1;32m     24\u001b[0m \u001b[38;5;28;01mdef\u001b[39;00m \u001b[38;5;21mplot\u001b[39m(\u001b[38;5;28mself\u001b[39m, \u001b[38;5;241m*\u001b[39m\u001b[38;5;241m*\u001b[39mkwargs):\n\u001b[0;32m---> 25\u001b[0m     \u001b[38;5;28;01mreturn\u001b[39;00m \u001b[43mplot_rectangle\u001b[49m(\u001b[38;5;28mself\u001b[39m\u001b[38;5;241m.\u001b[39mcenter, \u001b[38;5;28mself\u001b[39m\u001b[38;5;241m.\u001b[39mwidth, \u001b[38;5;28mself\u001b[39m\u001b[38;5;241m.\u001b[39mheight, \u001b[38;5;241m*\u001b[39m\u001b[38;5;241m*\u001b[39mkwargs)\n",
      "\u001b[0;31mNameError\u001b[0m: name 'plot_rectangle' is not defined"
     ]
    }
   ],
   "source": [
    "Terrain([1, 0, 1, 1, 0, 1]).plot()"
   ]
  },
  {
   "cell_type": "markdown",
   "metadata": {
    "cell_id": "2a881b4ce0034f4f9f191d1cfd9cab26",
    "deepnote_cell_type": "markdown"
   },
   "source": [
    "## Transcription to a Graph of Convex Sets"
   ]
  },
  {
   "cell_type": "markdown",
   "metadata": {
    "cell_id": "a1a6bf1980d849019d75c87be8d13214",
    "deepnote_cell_type": "markdown"
   },
   "source": [
    "Now that we have defined functions that build a terrain of rectangular stepping stones, it is time to construct the graph of convex sets (GCS). For simplicity, we assume that the robot always starts by moving its right foot (at step 0, left foot is stationary), and we also assume the step sequence alternates between two feet. Therefore, the foot sequence is fixed: {Right, Left, Right ...}. Under these assumptions, the footstep planning task is reduced to finding a path that connects the starting position $x_s \\in \\mathbb{R}^2$ (center of \"initial\" stone) to the goal position $x_t\\in \\mathbb{R}^2$ (center of \"goal\" stone) through a sequence of points $\\{x_k\\}_{k=1}^N$ ($N$ is the total number of steps) where each point lies within an available stepping stones.\n",
    "\n",
    "**Add Vertices**\n",
    "\n",
    "Let's begin by defining vertices of the GCS. Notice that each stepping stone is a rectangle, which is a convex set. Following that idea, the convex sets, or the vertices, in GCS include: all stepping stones; and the source and the target sets. The source and the target sets correspond to point sets (singleton) that include the starting position $x_s$ and goal position $x_t$, respectively.\n",
    "\n",
    "\n",
    "Due to kinematic constraints, at every time step, one foot has to be within a square centered at the other foot, i.e., $$\\forall k = 1, 2, ..., N-1, |x_k[0] - x_{k+1}[0]|\\leq d/2, |x_k[1] - x_{k+1}[1]|\\leq d/2$$ where $d$ is the `step_span`. Therefore, it is possible that the robot has to step on the same stepping stone more than once. For example, consider the above terrain, if the robot walks across the \"lateral\" stone with a small `step_span`, it might take multiple steps to get across.\n",
    "\n",
    "However in GCS, constructing a single vertex for a single stone would not allow multiple $x_k$ to exist on that single stone. Therefore, suppose we want to have positions of multiple steps on the same stone, e.g., $x_k, x_{k+1}, x_{k+2} \\in S_i$, these variables cannot share the same convex set. To accomodate for such requirements, we need to make copies of the same convex sets to create multiple continuous decision variables. Specifically, we make `m` copies of the same stone where `m = floor(stone_horizontal_length/step_span) + 2`. (Reasons for choosing this number is explained below the vertex naming convention)\n",
    "\n",
    "To summarize, the vertices need to include:\n",
    "1. `source` and `target` singleton sets.\n",
    "2. `m` copies of each stepping stone rectangle as convex sets.\n"
   ]
  },
  {
   "cell_type": "markdown",
   "metadata": {
    "cell_id": "c324b3e5bb43420380f3a142e6e9757e",
    "deepnote_cell_type": "markdown"
   },
   "source": [
    "P.s. Try to use the naming convention suggested by the following code block, which names a stepping stone vertex as `xi_ii`.\n",
    "- `x` is the stone type: `l` for the lateral stone, `s` for stone named \"start\", `t` for stone named \"final\", `b` for stone whose names contain \"bridge\"\n",
    "- `i` is the index of the convex set in vertex list `V`\n",
    "- `ii` is the index of the copy of the same stone"
   ]
  },
  {
   "cell_type": "markdown",
   "metadata": {
    "cell_id": "4e35cc6ec9324cdab46ce6372aaa98f5",
    "deepnote_cell_type": "markdown"
   },
   "source": [
    "**Add Edges between vertices that are multiple copies of same set**\n",
    "\n",
    "In addition to adding vertices, the following function also constructs edges between copies of the same stone. Since the only purpose of the copies is to provide multiple position variables inside the same set, we can define a fixed order of these copies, namely `xi_0 -> xi_1 -> ... -> xi_m`. For minimum number of steps (or minimum distance of edges on the path), the robot will only step on the same stone multiple times consecutively (not coming back to a stone once it leaves said stone). The choice of `m` ensures that even for a narrow stone where `m = 0 + 2`, the robot has the ability to place both feet on the stone so that it can position itself better to reach the next stone if needed. Additionally, if the robot needs to get across a wider stone in several steps, minimum number of steps require the robot to take as large step as possible, therefore, `m = floor(stone_horizontal_length/step_span)+2`. It is easier to add these edges while creating vertices, as demonstrated by the code template implemented for the \"lateral\" stone.\n",
    "\n",
    "**You will need to implement (marked with `TODO: MODIFY HERE`):**\n",
    "- Compute number of copies needed for each stone (note that start and final stones are same size)\n",
    "- Add vertex for copies of convex sets corresponding to \"start\", \"final\", \"bridge\" stones\n",
    "- Add fixed order edges between copies of the same stone\n",
    "\n",
    "*PLEASE NOTE*: throughout this problem, \"start\" and \"final\" will refer to stones, while \"source\" and \"target\" will refer to GCS vertices and the corresponding vertex sets."
   ]
  },
  {
   "cell_type": "code",
   "execution_count": null,
   "metadata": {
    "cell_id": "425070acc7174685843df398b4054464",
    "deepnote_cell_type": "code"
   },
   "outputs": [],
   "source": [
    "def add_vertex_and_edges_for_set_copies(G, T, step_span):\n",
    "    start_position = tuple(T.get_stone_by_name(\"initial\").center)\n",
    "    end_position = tuple(T.get_stone_by_name(\"goal\").center)\n",
    "\n",
    "    V = []  # vertices\n",
    "    E_list = (\n",
    "        []\n",
    "    )  # list of pair of vertices that can construct an edge e.g. E_list[i] = [u_i, v_i] where u_i -> v_i is a valid edge\n",
    "\n",
    "    V.append(G.AddVertex(Point(start_position), \"source\"))\n",
    "    V.append(G.AddVertex(Point(end_position), \"target\"))\n",
    "\n",
    "    # compute number of copies needed for each vertex\n",
    "    lat_horiz_len = T.get_stone_by_name(\"lateral\").width\n",
    "    start_horiz_len = T.get_stone_by_name(\"initial\").width\n",
    "    bridge_horiz_len = T.get_stone_by_name(\"bridge_0\").width  \n",
    "    \n",
    "    # floor(x) returns largest integer not greater than x\n",
    "    num_copy_lateral = np.floor(lat_horiz_len / step_span) + 2 # TODO: MODIFY HERE\n",
    "    num_copy_s_t = np.floor(start_horiz_len / step_span) + 2 # TODO: MODIFY HERE\n",
    "    num_copy_bridge = np.floor(bridge_horiz_len / step_span) + 2  # TODO: MODIFY HERE\n",
    "\n",
    "    for i, stone in enumerate(T.stepping_stones):\n",
    "        H_i = HPolyhedron(stone.A, stone.b)\n",
    "        if stone.name == \"lateral\":\n",
    "            for ii in range(num_copy_lateral):\n",
    "                V.append(G.AddVertex(H_i, f\"l{i}_{ii}\"))\n",
    "                if ii > 0:\n",
    "                    # add edge from parent to copy\n",
    "                    E_list.append([V[-2], V[-1]])\n",
    "        elif stone.name == \"start\":\n",
    "            # TODO: MODIFY HERE\n",
    "            for ii in range(num_copy_s_t):\n",
    "                V.append(G.AddVertex(H_i, f\"s{i}_{ii}\"))\n",
    "                if ii > 0:\n",
    "                    # add edge from parent to copy\n",
    "                    E_list.append([V[-2], V[-1]])\n",
    "        elif stone.name == \"final\":\n",
    "            # TODO: MODIFY HERE\n",
    "            for ii in range(num_copy_s_t):\n",
    "                V.append(G.AddVertex(H_i, f\"t{i}_{ii}\"))\n",
    "                if ii > 0:\n",
    "                    # add edge from parent to copy\n",
    "                    E_list.append([V[-2], V[-1]])\n",
    "        else:\n",
    "            # TODO: MODIFY HERE\n",
    "            # if not l, s, or t, must be b\n",
    "            for ii in range(int(num_copy_bridge)):\n",
    "                V.append(G.AddVertex(H_i, f\"b{i}_{ii}\"))\n",
    "                if ii > 0:\n",
    "                    # add edge from parent to copy\n",
    "                    E_list.append([V[-2], V[-1]])   \n",
    "\n",
    "    return G, V, E_list"
   ]
  },
  {
   "cell_type": "markdown",
   "metadata": {
    "cell_id": "ca1ed89f50844e0fbbbb2188165bcf3a",
    "deepnote_cell_type": "markdown"
   },
   "source": [
    "Now that we have constructed vertices and edges in between vertices that are copies of the same set, we need to construct the rest of edges in the GCS. The simplest brute-force approach is to connect any pair of vertices, however, we should always avoid adding redundant edges to reduce complexity of the graph.\n",
    "\n",
    "You need to implement construction of edges based on pair of vertices `excluding` the following:\n",
    "\n",
    "- Since we have specified a fixed order for the copies of the same set, `xi_0 -> xi_1 -> xi_2 ...`, we would avoid constructing edges that connect copies other than the fixed order, e.g., `xi_0 -> xi_2` should be avoided.\n",
    "\n",
    "- Without loss of generality, we can enforce the planner to use the copies of the same set in a consecutive manner. Any incoming edge from vertices corresponding to different stepping stones, should only connect to the parent vertex for a given stepping stone, i.e., we only need `xj_jj -> xi_0` and do not need `xj_jj -> xi_ii` where ``ii>0``.\n",
    "\n",
    "- In addition, `target` vertex should only have incoming edges while `source` vertex should only have outgoing edges.\n",
    "\n",
    "Note that so far we are only constructing a list of edge vertex pairs, namely, the elements in `E_list` would be `[u, v]` where `u` and `v` are vertices. `E_list[i]` would be a list instead of a true edge class instance in the GCS class.\n",
    "\n",
    "P.s. `[u, v]` consists of left (source) vertex `u` and right (target) vertex `v`. Suppose `u` has name '`xi_ii`', you can use `u.name().split(\"_\")` to extract a list of strings `['xi', 'ii']`"
   ]
  },
  {
   "cell_type": "code",
   "execution_count": 16,
   "metadata": {
    "cell_id": "0467e2a706794c0da84606223fb5ea45",
    "deepnote_cell_type": "code"
   },
   "outputs": [],
   "source": [
    "def add_edges_towards_parent_vertices(G, V, E_list):\n",
    "    for u in V:\n",
    "        # TODO: MODIFY HERE\n",
    "        # Below is an example of connecting \"source\" directly to \"target\". This is for the purpose of running the empty notebook, you should implement the edge construction as instructed above, and rewrite the codes below.\n",
    "        # Dont create edges to connect copies outside of the fixed order\n",
    "        # So |xi_ii - xi_{ii+1}| should always be = 1\n",
    "\n",
    "        # Planner should use copies of the same set in a consecutive manner\n",
    "        # Incoming edges from vertices on a different stepping stone should only connect to the parent vertex of the given stepping stone\n",
    "        # So when xj goes to xi, xj_jj -> xi_0 \n",
    "        # When connecting any two convex sets surrounding vertices, the the edge coming from the previous vertex should only go to the original convex set, and not any of its copies\n",
    "\n",
    "        # Source should only have outgoing vertices, and target should only have incoming vertices\n",
    "\n",
    "        # Handle base case (source and taget)\n",
    "        # Get info about vertex\n",
    "        u_name = u.name()\n",
    "        if u_name == \"source\":\n",
    "            # Source should only have outgoing vertices to parent indices (xi_0)\n",
    "            for v in V:\n",
    "                v_name = v.name()\n",
    "                if v_name != \"source\" and v_name != \"target\":\n",
    "                    # Check if the next vertex is the parent of the copies of convex sets\n",
    "                    if v_name.split(\"_\")[1] == \"0\":\n",
    "                        # Node is parent, connect them\n",
    "                        E_list.append([u, v])\n",
    "                \n",
    "                elif v_name == \"target\":\n",
    "                    E_list.append([u, v])\n",
    "\n",
    "        # Target should have no outgoing nodes\n",
    "        elif u_name != \"target\":\n",
    "\n",
    "            for v in V:\n",
    "                v_name = v.name()\n",
    "\n",
    "                # All non source vertices can connect to target\n",
    "                if v_name == \"target\":\n",
    "                    E_list.append([u, v])\n",
    "                    continue\n",
    "                \n",
    "                # Cannot connect vertices to source\n",
    "                elif v_name == \"source\":\n",
    "                    continue # Skip\n",
    "\n",
    "                # Connect edges in fixed order\n",
    "                u_base = u_name.split(\"_\")[0]\n",
    "                u_index = int(u_name.split(\"_\")[1])\n",
    "                \n",
    "                v_base = v_name.split(\"_\")[0]\n",
    "                v_index = int(v_name.split(\"_\")[1])\n",
    "\n",
    "                # Case 1: Connect copies of the same set in the right order\n",
    "                if u_base == v_base:\n",
    "                    # Only connect consecutive edges\n",
    "                    if v_index == u_index + 1:\n",
    "                        E_list.append([u, v])\n",
    "\n",
    "                # Case 2: Only connect different stepping stones to parents of next step\n",
    "                if u_base != v_base:\n",
    "                    if v_index == 0:\n",
    "                        E_list.append([u, v])\n",
    "\n",
    "    return G, E_list"
   ]
  },
  {
   "cell_type": "markdown",
   "metadata": {
    "cell_id": "8942d9d76d8547fda634a67fbb19a8fc",
    "deepnote_cell_type": "markdown"
   },
   "source": [
    "Now that we have constructed a list `E_list` whose elements are `[u, v]`, vertex pairs of all valid edges, we are ready to add Edges in the Graph, along with their constraints and costs.\n",
    "\n",
    "You will need to implement edge constraints and costs in the following block ((marked with `TODO: MODIFY HERE`)):\n",
    "\n",
    "Constraints:\n",
    "- For every vertex pair (ordered) `[u, v]` in `E_list`, we use `e = G.AddEdge(u, v)` to first construct an edge.\n",
    "- For each edge `e`, the continuous variables (check [documentation](https://drake.mit.edu/doxygen_cxx/classdrake_1_1geometry_1_1optimization_1_1_graph_of_convex_sets_1_1_edge.html) for syntax) xu and xv must satisfy the kinematic constraint. Namely, $x_u, x_v \\in \\mathbb{R}^2$, $\\|x_u - x_v\\|_{\\infty} \\leq d/2$ where `d = step_span`.\n",
    "\n",
    "Costs:\n",
    "\n",
    "In this problem, we consider a minimum number of step as the overall cost function. Therefore, each edge `e` is associated with a constant cost, e.g. 1. . Use `e.AddCost()` for implementation, for details please see [documentation](https://drake.mit.edu/doxygen_cxx/classdrake_1_1geometry_1_1optimization_1_1_graph_of_convex_sets_1_1_edge.html)\n",
    "\n",
    "Remark: edge costs in GCS can be very general and suit a variety of motion planning tasks, e.g., L-2 norm of $x_u-x_v$. Here we stick with a constant edge cost because this makes the resulting convex program easy to solve, allowing us to use `SnoptSolver()` provided by drake. For more general cost function such as L-2 norm, commercial optimization solvers such as `MosekSolver()` and `GurobiSolver()` are more reliable in generating good numerical results."
   ]
  },
  {
   "cell_type": "code",
   "execution_count": 18,
   "metadata": {
    "cell_id": "3193022a4d404915936a2b1875a73bcb",
    "deepnote_cell_type": "code"
   },
   "outputs": [],
   "source": [
    "def add_edge_constraints_costs(G, E_list, step_span):\n",
    "    E = []\n",
    "\n",
    "    for u, v in E_list:\n",
    "        e = G.AddEdge(u, v)\n",
    "\n",
    "        # TODO: MODIFY HERE\n",
    "        # Add kinematic constraints to the edges\n",
    "        xu = e.xu()\n",
    "        xv = e.xv() \n",
    "        \n",
    "        for i in range(2):\n",
    "\n",
    "            e.AddConstraint((xu[i] - xv[i]) <= step_span / 2)\n",
    "            e.AddConstraint((xv[i] - xu[i]) <= step_span / 2)\n",
    "\n",
    "        # TODO: MODIFY HERE\n",
    "        # Add constant edge cost\n",
    "        e.AddCost(1)\n",
    "\n",
    "        E.append(e)\n",
    "\n",
    "    return G, E"
   ]
  },
  {
   "cell_type": "markdown",
   "metadata": {
    "cell_id": "f24b9d4f31a24e589a923d669d6738ee",
    "deepnote_cell_type": "markdown"
   },
   "source": [
    "Now we have all the components of a GCS, we are ready to solve the SPP in GCS. Note that in drake, the solution to GCS is an instance of [`MathematicalProgramResult()`](https://drake.mit.edu/doxygen_cxx/classdrake_1_1solvers_1_1_mathematical_program_result.html). In this case, using convex relaxation, the result will contain numerical solutions for decision variables including: continuous variable in each vertex and edge flow variables. The edge flow variables `e.phi()` is a continuous variable between 0 and 1, which is a relaxed version of binary variable that takes value 0 or 1. In the solution, if the binary variable value is 1, it means the edge is active in the path. In our problem, the convex relaxation is very tight, the continuous flow variables in the solution only take binary values 0 and 1.\n",
    "\n",
    "Before we construct the GCS footstep planner, below are two helper functions that extract the planned footstep position from the GCS solution: `extract_path()` and `footstep2position()`.\n",
    "\n",
    "- Using the edge flow variable values in the solution, we can check whether an edge appears in the optimal path. When the flow variables take binary values, `extract_path()` uses the fact that each vertex should only have one outgoing edge that has flow variables `phi()=1` to extract the path. More generally, depth first search can be used to extract a path from solution with non-binary flow variable values.\n",
    "\n",
    "- `extract_path()` returns `path_position`, which is a numpy array of size `n_steps, 2` and for step i `path_position[i]` is the `x-y` position of the moving foot. Under this specific sequence, Recall that our planner assumes a fixed foot sequence {Right, Left, Right, ...}. Given the moving foot position sequence, we can reconstruct the position of left and right foot over the `n_steps`: As an example, if at step `i`, left foot is moving, then `position_left[i+1] = path_position[i+1]` and `position_right[i+1] = position_right[i]`."
   ]
  },
  {
   "cell_type": "code",
   "execution_count": 19,
   "metadata": {
    "cell_id": "0c6a9398b7f04188a08a0907550c3af9",
    "deepnote_cell_type": "code"
   },
   "outputs": [],
   "source": [
    "def extract_path(V, E, result):\n",
    "    V_dict = {}\n",
    "    for i, v in enumerate(V):\n",
    "        V_dict[v.name()] = i\n",
    "\n",
    "    V_adj = np.zeros((len(V), len(V)))\n",
    "\n",
    "    for e in E:\n",
    "        if result.GetSolution(e.phi()):\n",
    "            u_index = V_dict[e.u().name()]\n",
    "            v_index = V_dict[e.v().name()]\n",
    "            V_adj[u_index, v_index] = 1\n",
    "\n",
    "    path = [\"source\"]\n",
    "    path_count = 0\n",
    "    while path[-1] != \"target\":\n",
    "        u_name = path[-1]\n",
    "        v_index = np.where(V_adj[V_dict[u_name], :] == 1)[0][0]\n",
    "        path.append(V[v_index].name())\n",
    "        path_count = path_count + 1\n",
    "        if path_count > 100:\n",
    "            print(\"Abort path extraction: possible loops\")\n",
    "            break\n",
    "\n",
    "    path_position = np.zeros((len(path), 2))\n",
    "    for i in range(len(path)):\n",
    "        path_position[i, :] = result.GetSolution(V[V_dict[path[i]]].x())\n",
    "\n",
    "    return path, path_position\n",
    "\n",
    "\n",
    "def footstep2position(planner_footstep):\n",
    "    # For now assume left foot is initially at [0.,0.] and always move right foot first\n",
    "    n_steps = planner_footstep.shape[0]\n",
    "    position_left = np.zeros((n_steps, 2))\n",
    "    position_right = np.zeros((n_steps, 2))\n",
    "    position_right[0, :] = np.array([0.0, -0.2])\n",
    "\n",
    "    for i in range(n_steps):\n",
    "        if i % 2 == 0:\n",
    "            # odd steps: right foot stationary, assign value to left foot\n",
    "            position_left[i, :] = planner_footstep[i, :]\n",
    "            if i > 0:\n",
    "                position_right[i, :] = position_right[i - 1, :]\n",
    "        else:\n",
    "            # even steps: left foot stationary, assign value to right foot\n",
    "            position_right[i, :] = planner_footstep[i, :]\n",
    "            position_left[i, :] = position_left[i - 1, :]\n",
    "    return position_left, position_right"
   ]
  },
  {
   "cell_type": "markdown",
   "metadata": {
    "cell_id": "d9aa330483ea447a81d8e2db3940a3e5",
    "deepnote_cell_type": "markdown"
   },
   "source": [
    "With the above two helper functions, we are finally ready to construct the GCS footstep planner! In the following cell, we put together all the pieces we wrote so far to formulate the GCS, set up several key options in the GCS solver, and solve for the optimal path."
   ]
  },
  {
   "cell_type": "code",
   "execution_count": null,
   "metadata": {
    "cell_id": "616f28c1d0414db28699759bdad43b4d",
    "deepnote_cell_type": "code"
   },
   "outputs": [],
   "source": [
    "def GCS_footstep_planner(T, step_span, convex_relaxation, solver):\n",
    "    # Initial GCS problem\n",
    "    G = GraphOfConvexSets()\n",
    "\n",
    "    # Add vertices and edges\n",
    "    G, V, E_list = add_vertex_and_edges_for_set_copies(G, T, step_span)\n",
    "    G, E_list = add_edges_towards_parent_vertices(G, V, E_list)\n",
    "\n",
    "    # Add edge constraints and costs\n",
    "    G, E = add_edge_constraints_costs(G, E_list, step_span)\n",
    "\n",
    "    # solve the shortest path problem on GCS\n",
    "    options = GraphOfConvexSetsOptions()\n",
    "    options.preprocessing = True\n",
    "    options.max_rounded_paths = 10\n",
    "    options.convex_relaxation = convex_relaxation\n",
    "    options.solver = solver\n",
    "    result = G.SolveShortestPath(V[0], V[1], options)\n",
    "\n",
    "    path, path_position = extract_path(V, E, result)\n",
    "    # minimum number of steps cost\n",
    "    path_cost = len(path) - 1\n",
    "    # Convert path_position to left and right foot position\n",
    "    position_left, position_right = footstep2position(path_position)\n",
    "\n",
    "    return position_left, position_right, path_cost"
   ]
  },
  {
   "cell_type": "markdown",
   "metadata": {
    "cell_id": "4b7700cb49df46b0a3d93b0e08fb0ea6",
    "deepnote_cell_type": "markdown"
   },
   "source": [
    "## Animate the solution of the SPP in GCS"
   ]
  },
  {
   "cell_type": "markdown",
   "metadata": {
    "cell_id": "e48b130aedb747f18b24fc84147574a6",
    "deepnote_cell_type": "markdown"
   },
   "source": [
    "Here is a wrapper function that completes both footstep planning and animating the planned steps on a given terrain. If you are curious about how to implement such an anmiation, feel free to check the helper function `animate_footstep_plan()` in the `footstep_planning_gcs_utils.py` file."
   ]
  },
  {
   "cell_type": "code",
   "execution_count": null,
   "metadata": {
    "cell_id": "658abf4090c441e09af73b5dbcbd2f83",
    "deepnote_cell_type": "code"
   },
   "outputs": [],
   "source": [
    "def generate_and_animate_footstep_plan(\n",
    "    terrain, step_span, convex_relaxation, solver, title=None\n",
    "):\n",
    "    # run footstep planner\n",
    "    position_left, position_right, path_cost = GCS_footstep_planner(\n",
    "        terrain, step_span, convex_relaxation, solver\n",
    "    )\n",
    "\n",
    "    # animate result\n",
    "    animate_footstep_plan(terrain, step_span, position_left, position_right, title)\n",
    "\n",
    "    return position_left, position_right, path_cost"
   ]
  },
  {
   "cell_type": "markdown",
   "metadata": {
    "cell_id": "81a01ff49c48457cbb7764e441bc2e30",
    "deepnote_cell_type": "markdown"
   },
   "source": [
    "## Try the Footstep Planner on two Terrains"
   ]
  },
  {
   "cell_type": "code",
   "execution_count": null,
   "metadata": {
    "cell_id": "edbd6bbd552044e680059d104f428462",
    "deepnote_cell_type": "code"
   },
   "outputs": [],
   "source": [
    "# complete bridge\n",
    "terrain_A = Terrain([1, 1, 1, 1, 1, 1])\n",
    "terrain_A.plot(\"Terrain A\")\n",
    "plt.show()\n",
    "\n",
    "# one stepping stone missing in the bridge\n",
    "terrain_B = Terrain([1, 1, 1, 0, 1, 1])\n",
    "terrain_B.plot(\"Terrain B\")\n",
    "plt.show()"
   ]
  },
  {
   "cell_type": "code",
   "execution_count": null,
   "metadata": {
    "cell_id": "80cf6270868945d286a6a4dda6afe521",
    "deepnote_cell_type": "code"
   },
   "outputs": [],
   "source": [
    "step_span = 0.8\n",
    "convex_relaxation = True\n",
    "\n",
    "solver = SnoptSolver()\n",
    "\n",
    "position_left_A, position_right_A, cost_A = generate_and_animate_footstep_plan(\n",
    "    terrain_A, step_span, convex_relaxation, solver\n",
    ")\n",
    "position_left_B, position_right_B, cost_B = generate_and_animate_footstep_plan(\n",
    "    terrain_B, step_span, convex_relaxation, solver\n",
    ")"
   ]
  },
  {
   "cell_type": "markdown",
   "metadata": {
    "cell_id": "1cc192f0c3e342e48be0fc83d2a8d97f",
    "deepnote_cell_type": "markdown"
   },
   "source": [
    "## Autograding\n",
    "\n",
    "You can check your work by running the following cell."
   ]
  },
  {
   "cell_type": "code",
   "execution_count": null,
   "metadata": {
    "cell_id": "e311529e0e3b4948ab47a91c05aed868",
    "deepnote_cell_type": "code"
   },
   "outputs": [],
   "source": [
    "Grader.grade_output([TestFootstepPlanning], [locals()], \"results.json\")\n",
    "Grader.print_test_results(\"results.json\")"
   ]
  },
  {
   "cell_type": "markdown",
   "metadata": {
    "created_in_deepnote_cell": true,
    "deepnote_cell_type": "markdown"
   },
   "source": [
    "<a style='text-decoration:none;line-height:16px;display:flex;color:#5B5B62;padding:10px;justify-content:end;' href='https://deepnote.com?utm_source=created-in-deepnote-cell&projectId=baa653d1-51f0-405c-997e-49cadd1a72e8' target=\"_blank\">\n",
    "<img alt='Created in deepnote.com' style='display:inline;max-height:16px;margin:0px;margin-right:7.5px;' src='data:image/svg+xml;base64,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' > </img>\n",
    "Created in <span style='font-weight:600;margin-left:4px;'>Deepnote</span></a>"
   ]
  }
 ],
 "metadata": {
  "deepnote_notebook_id": "167eec84d85944eeb2df3a2ee02248a9",
  "kernelspec": {
   "display_name": "meam517-env",
   "language": "python",
   "name": "python3"
  },
  "language_info": {
   "codemirror_mode": {
    "name": "ipython",
    "version": 3
   },
   "file_extension": ".py",
   "mimetype": "text/x-python",
   "name": "python",
   "nbconvert_exporter": "python",
   "pygments_lexer": "ipython3",
   "version": "3.11.5"
  }
 },
 "nbformat": 4,
 "nbformat_minor": 0
}
